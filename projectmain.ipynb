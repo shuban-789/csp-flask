{
 "cells": [
  {
   "cell_type": "markdown",
   "metadata": {},
   "source": [
    "---\n",
    "title: Python Project for Team Test 1.1-1.4\n",
    "description: Programs with functions and purpose!\n",
    "author: Hayden, Shuban, Tarun, Deva\n",
    "---"
   ]
  },
  {
   "cell_type": "markdown",
   "metadata": {},
   "source": [
    "### Program with Output"
   ]
  },
  {
   "cell_type": "code",
   "execution_count": 1,
   "metadata": {},
   "outputs": [
    {
     "name": "stdout",
     "output_type": "stream",
     "text": [
      "Hi world!\n"
     ]
    }
   ],
   "source": [
    "def output(sus):\n",
    "    print(sus)\n",
    "\n",
    "output(\"Hi world!\")"
   ]
  },
  {
   "cell_type": "markdown",
   "metadata": {},
   "source": [
    "### Program with Input and Output"
   ]
  },
  {
   "cell_type": "code",
   "execution_count": 2,
   "metadata": {},
   "outputs": [
    {
     "name": "stdout",
     "output_type": "stream",
     "text": [
      "Nice to meet you, Bob Sewqasew!\n"
     ]
    }
   ],
   "source": [
    "def output():\n",
    "    name = str(input(\"What's your name, kind sir?\"))\n",
    "    print(\"Nice to meet you, \" + name + \"!\")\n",
    "output()"
   ]
  },
  {
   "cell_type": "markdown",
   "metadata": {},
   "source": [
    "### Program with a List"
   ]
  },
  {
   "cell_type": "code",
   "execution_count": 5,
   "metadata": {},
   "outputs": [
    {
     "name": "stdout",
     "output_type": "stream",
     "text": [
      "The letter a is at position 1 within the alphabet.\n"
     ]
    }
   ],
   "source": [
    "thelist = ['placeholder']\n",
    "for i in range(97,123):\n",
    "    thelist.append(chr(i))\n",
    "letter = input().lower()\n",
    "print('The letter '+letter+' is at position '+str(thelist.index(letter))+' within the alphabet.')"
   ]
  }
 ],
 "metadata": {
  "kernelspec": {
   "display_name": "Python 3",
   "language": "python",
   "name": "python3"
  },
  "language_info": {
   "codemirror_mode": {
    "name": "ipython",
    "version": 3
   },
   "file_extension": ".py",
   "mimetype": "text/x-python",
   "name": "python",
   "nbconvert_exporter": "python",
   "pygments_lexer": "ipython3",
   "version": "3.11.4"
  },
  "orig_nbformat": 4
 },
 "nbformat": 4,
 "nbformat_minor": 2
}
