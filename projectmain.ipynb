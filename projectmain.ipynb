{
 "cells": [
  {
   "cell_type": "markdown",
   "metadata": {},
   "source": [
    "---\n",
    "title: Python Project for Team Test 1.1-1.4\n",
    "description: Programs with functions and purpose!\n",
    "author: Hayden, Shuban, Tarun, Deva\n",
    "---"
   ]
  },
  {
   "cell_type": "markdown",
   "metadata": {},
   "source": [
    "### Program with Output"
   ]
  },
  {
   "cell_type": "code",
   "execution_count": 1,
   "metadata": {},
   "outputs": [
    {
     "name": "stdout",
     "output_type": "stream",
     "text": [
      "Hi world!\n"
     ]
    }
   ],
   "source": [
    "def output(sus):\n",
    "    print(sus)\n",
    "\n",
    "output(\"Hi world!\")"
   ]
  },
  {
   "cell_type": "markdown",
   "metadata": {},
   "source": [
    "### Program with Input and Output"
   ]
  },
  {
   "cell_type": "code",
   "execution_count": 2,
   "metadata": {},
   "outputs": [
    {
     "name": "stdout",
     "output_type": "stream",
     "text": [
      "Nice to meet you, Bob Sewqasew!\n"
     ]
    }
   ],
   "source": [
    "def output():\n",
    "    name = str(input(\"What's your name, kind sir?\"))\n",
    "    print(\"Nice to meet you, \" + name + \"!\")\n",
    "output()"
   ]
  },
  {
   "cell_type": "markdown",
   "metadata": {},
   "source": [
    "### Program with a List"
   ]
  },
  {
   "cell_type": "code",
   "execution_count": 10,
   "metadata": {},
   "outputs": [
    {
     "name": "stdout",
     "output_type": "stream",
     "text": [
      "The letter w is at position 23 within the alphabet.\n"
     ]
    }
   ],
   "source": [
    "alphabetlist = ['placeholder','a','b','c','d','e','f','g','h','i','j','k','l','m','n','o','p','q','r','s','t','u','v','w','x','y','z']\n",
    "# typed out all letters in alphabet\n",
    "while True:\n",
    "    letter = str(input(\"Enter the letter you want to check: \")).lower()\n",
    "    if len(letter) == 1 and 97 <= ord(letter) <= 122:\n",
    "        break\n",
    "print('The letter '+letter+' is at position '+str(alphabetlist.index(letter))+' within the alphabet.')"
   ]
  },
  {
   "cell_type": "markdown",
   "metadata": {},
   "source": [
    "### Program with a Dictionary"
   ]
  },
  {
   "cell_type": "code",
   "execution_count": 9,
   "metadata": {},
   "outputs": [
    {
     "name": "stdout",
     "output_type": "stream",
     "text": [
      "Big list database insertion now commencing. At any point, press ` to end\n",
      "[{'Name': 'Bob Amaogus', 'Grade': '10', 'Favorite food': 'tofu'}, {'Name': 'Amao', 'Grade': 'Gus', 'Favorite food': 'Terrible cheese'}, {'Name': 'wow! a ', 'Grade': 'bot', 'Favorite food': 'ong'}, {'Name': 'we live', 'Grade': 'we love', 'Favorite food': 'we lie'}]\n"
     ]
    }
   ],
   "source": [
    "biglist = []\n",
    "mydict = {\n",
    "    'Name': 'Bob Amaogus',\n",
    "    'Grade': '10',\n",
    "    'Favorite food': 'tofu'\n",
    "}\n",
    "biglist.append(mydict)\n",
    "print(\"Big list database insertion now commencing. At any point, press ` to end\")\n",
    "while True:\n",
    "    name = input(\"Enter your name: \")\n",
    "    if name == '`':\n",
    "        break\n",
    "    grade = input(\"Enter your grade: \")\n",
    "    if grade == '`':\n",
    "        break\n",
    "    favefood = input(\"Enter your favorite food: \")\n",
    "    if favefood == '`':\n",
    "        break\n",
    "    newprofile = {\n",
    "        'Name': name,\n",
    "        'Grade': grade,\n",
    "        'Favorite food': favefood\n",
    "    }\n",
    "    biglist.append(newprofile)\n",
    "# now the biglist database is ready for usage\n",
    "print(biglist)\n",
    "    "
   ]
  },
  {
   "cell_type": "markdown",
   "metadata": {},
   "source": [
    "### Program with Iteration"
   ]
  },
  {
   "cell_type": "code",
   "execution_count": 15,
   "metadata": {},
   "outputs": [
    {
     "name": "stdout",
     "output_type": "stream",
     "text": [
      "The letter t is at position 20 within the alphabet.\n"
     ]
    }
   ],
   "source": [
    "alphabetlist = ['placeholder']\n",
    "for i in range(97,123): # uses ASCII to insert alphabet with for loop. 97 to 122 are lowercase letters\n",
    "    alphabetlist.append(chr(i))\n",
    "while True:\n",
    "    letter = str(input(\"Enter the letter you want to check: \")).lower()\n",
    "    if len(letter) == 1 and 97 <= ord(letter) <= 122:\n",
    "        break\n",
    "print('The letter '+letter+' is at position '+str(alphabetlist.index(letter))+' within the alphabet.')"
   ]
  },
  {
   "cell_type": "code",
   "execution_count": null,
   "metadata": {},
   "outputs": [],
   "source": [
    "### Program with statistical calculations, try/catch, selection/conditions"
   ]
  },
  {
   "cell_type": "code",
   "execution_count": null,
   "metadata": {},
   "outputs": [],
   "source": [
    "def calculatestats(mylist):\n",
    "    s = sum(mylist)\n",
    "    if len(mylist) > 1:\n",
    "        itemcount = len(mylist)\n",
    "        unroundedmean = s/itemcount\n",
    "        mean = round(unroundedmean,2)\n",
    "        if itemcount%2 == 0:\n",
    "            median = (mylist[itemcount//2]+mylist[itemcount//2-1])/2\n",
    "        elif itemcount%2 ==1:\n",
    "            median = mylist[(itemcount-1)//2]\n",
    "        sdsum = 0\n",
    "        for i in range(len(mylist)):\n",
    "            sdsum += (mylist[i]-unroundedmean)**2\n",
    "        sd = (sdsum/(itemcount-1))**(1/2)\n",
    "        sd = round(sd,2)\n",
    "        print(\"Mean is \"+str(mean))\n",
    "        print(\"Median is \"+str(median))\n",
    "        print(\"Standard Deviation is \"+str(sd))\n",
    "    if len(mylist) == 1:\n",
    "        print(\"Mean is \"+str(s))\n",
    "        print(\"Median is \"+str(s))\n",
    "        print(\"Standard Deviation is 0.0\")\n",
    "    if len(mylist) == 0:\n",
    "        print(\"Nothing is in your data set\")\n",
    "def getitems():\n",
    "    newlist = []\n",
    "    print(\"Start inputting your data set. Numbers (integers, floats) only.\")\n",
    "    while True:\n",
    "        item = input(\"Enter your item: \")\n",
    "        if item.lower() == 'no':\n",
    "            break\n",
    "        try:\n",
    "            newlist.append(float(item))\n",
    "        except:\n",
    "            print(\"Something went wrong, please try again.\")\n",
    "    newlist.sort()\n",
    "    return newlist\n",
    "l = getitems()\n",
    "print(\"Here are your items: \" + str(l))\n",
    "print(\"The statistics calculations on this data set: \")\n",
    "calculatestats(l)"
   ]
  }
 ],
 "metadata": {
  "kernelspec": {
   "display_name": "Python 3",
   "language": "python",
   "name": "python3"
  },
  "language_info": {
   "codemirror_mode": {
    "name": "ipython",
    "version": 3
   },
   "file_extension": ".py",
   "mimetype": "text/x-python",
   "name": "python",
   "nbconvert_exporter": "python",
   "pygments_lexer": "ipython3",
   "version": "3.11.4"
  },
  "orig_nbformat": 4
 },
 "nbformat": 4,
 "nbformat_minor": 2
}
